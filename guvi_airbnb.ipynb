{
 "cells": [
  {
   "cell_type": "code",
   "execution_count": null,
   "id": "8529bed2-bc1e-4e56-a7a9-3935fd3b4351",
   "metadata": {},
   "outputs": [],
   "source": [
    "!pip install pymongo"
   ]
  },
  {
   "cell_type": "code",
   "execution_count": null,
   "id": "ec45ea14-03b9-4dea-899c-d41226b61682",
   "metadata": {},
   "outputs": [],
   "source": [
    "from pymongo import MongoClient"
   ]
  },
  {
   "cell_type": "code",
   "execution_count": null,
   "id": "c2512dc8-7773-4449-abf3-bf69933013c8",
   "metadata": {},
   "outputs": [],
   "source": [
    "client = MongoClient('localhost' ,27017)\n",
    "db= client.test"
   ]
  },
  {
   "cell_type": "code",
   "execution_count": null,
   "id": "29ef0212-91d8-4dd2-9d48-b3f8424dbaa1",
   "metadata": {},
   "outputs": [],
   "source": [
    "db= client['sample_airbnb']\n",
    "col= db['listingANDReviews']"
   ]
  },
  {
   "cell_type": "code",
   "execution_count": null,
   "id": "7e4058a1-321c-4620-99fd-64b138abcd40",
   "metadata": {},
   "outputs": [],
   "source": [
    "col"
   ]
  },
  {
   "cell_type": "code",
   "execution_count": null,
   "id": "660bf210-60d8-4fd5-a405-bfc467fdc040",
   "metadata": {},
   "outputs": [],
   "source": [
    "for i in col.find():\n",
    "    print(i)\n",
    "    break"
   ]
  },
  {
   "cell_type": "code",
   "execution_count": null,
   "id": "1da1b9a5-2e81-4afd-8fd2-0433b865857b",
   "metadata": {},
   "outputs": [],
   "source": [
    "data=[]\n",
    "for i in col.find():\n",
    "    data.append(i)\n",
    "print(data)"
   ]
  },
  {
   "cell_type": "code",
   "execution_count": null,
   "id": "d810316a-ab15-45ee-9d86-710e0d80da5d",
   "metadata": {},
   "outputs": [],
   "source": [
    "import pandas as pd\n",
    "\n",
    "#convert mongodb cursor to dataframe\n",
    "\n",
    "df= pd.DataFrame(data)"
   ]
  },
  {
   "cell_type": "code",
   "execution_count": null,
   "id": "77b3b2b3-fd05-49ff-aaff-80cfdd55dfe5",
   "metadata": {},
   "outputs": [],
   "source": [
    "df.shape"
   ]
  },
  {
   "cell_type": "code",
   "execution_count": null,
   "id": "1e1eb7c6-6699-4bcd-8f73-0d62468e2c6a",
   "metadata": {},
   "outputs": [],
   "source": [
    "df.head(3)"
   ]
  },
  {
   "cell_type": "code",
   "execution_count": null,
   "id": "501bb387-bde8-4ab2-be6d-841bbec211e0",
   "metadata": {},
   "outputs": [],
   "source": [
    "df.describe()"
   ]
  },
  {
   "cell_type": "code",
   "execution_count": null,
   "id": "99449259-8d5b-41ce-9fe4-1c35d11cfe23",
   "metadata": {},
   "outputs": [],
   "source": [
    "df.info()"
   ]
  },
  {
   "cell_type": "code",
   "execution_count": null,
   "id": "7a15ba2b-bc84-4731-91f4-1b98f4cc94df",
   "metadata": {},
   "outputs": [],
   "source": [
    "df.isnull().sum()"
   ]
  },
  {
   "cell_type": "code",
   "execution_count": null,
   "id": "5d9f3258-bd5e-4b68-9588-41cd17777f1f",
   "metadata": {},
   "outputs": [],
   "source": [
    "df.isnull().mean()* 100"
   ]
  },
  {
   "cell_type": "code",
   "execution_count": null,
   "id": "0d5ad292-ee00-4baa-a7ca-7a65070e1455",
   "metadata": {},
   "outputs": [],
   "source": [
    "# drop columns on the basis of:-\n",
    "#1 least importance\n",
    "#2 unique features\n",
    "#3 null values"
   ]
  },
  {
   "cell_type": "code",
   "execution_count": null,
   "id": "66d538d4-4e9d-4dd0-9e14-eebfd29910ad",
   "metadata": {},
   "outputs": [],
   "source": [
    "data= df.drop(['_id','listing_url','name','summary','space','description','neighborhood_overview','notes','transit','access','interaction','house_rules','amenities','images','host','address','availability','review_scores','reviews','reviews_per_month','monthly_price','weekly_price','first_review','last_review','cleaning_fee','security_deposit'], axis='columns')"
   ]
  },
  {
   "cell_type": "code",
   "execution_count": null,
   "id": "d64746db-5d46-494a-8b5f-b531fa0cd611",
   "metadata": {},
   "outputs": [],
   "source": [
    "data.head(3)"
   ]
  },
  {
   "cell_type": "code",
   "execution_count": null,
   "id": "7d05898a-4cf6-43dc-bbae-5e9f5789faa4",
   "metadata": {},
   "outputs": [],
   "source": [
    "data.isnull().sum()"
   ]
  },
  {
   "cell_type": "code",
   "execution_count": null,
   "id": "c842ec02-af5a-438a-b6a7-468fb948895d",
   "metadata": {},
   "outputs": [],
   "source": [
    "data=data.dropna()"
   ]
  },
  {
   "cell_type": "code",
   "execution_count": null,
   "id": "857e4d00-6ba3-4201-bb77-36dbf91b08d4",
   "metadata": {},
   "outputs": [],
   "source": [
    "data.isnull().sum()"
   ]
  },
  {
   "cell_type": "code",
   "execution_count": null,
   "id": "c1ea7fd8-51f0-4d3d-a7f3-8ef4f58e1719",
   "metadata": {},
   "outputs": [],
   "source": [
    "data.shape"
   ]
  },
  {
   "cell_type": "code",
   "execution_count": null,
   "id": "83746160-1f81-474d-92c9-89c0ce65b224",
   "metadata": {},
   "outputs": [],
   "source": [
    "data.to_csv(\"C:\\\\Users\\\\User\\\\Desktop\\\\airbnb_guvi\\\\airbnb.csv\", index= True)"
   ]
  },
  {
   "cell_type": "code",
   "execution_count": null,
   "id": "dba42ee6-90b7-4b7f-931f-dbd392695de2",
   "metadata": {},
   "outputs": [],
   "source": []
  }
 ],
 "metadata": {
  "kernelspec": {
   "display_name": "Python 3 (ipykernel)",
   "language": "python",
   "name": "python3"
  },
  "language_info": {
   "codemirror_mode": {
    "name": "ipython",
    "version": 3
   },
   "file_extension": ".py",
   "mimetype": "text/x-python",
   "name": "python",
   "nbconvert_exporter": "python",
   "pygments_lexer": "ipython3",
   "version": "3.12.2"
  }
 },
 "nbformat": 4,
 "nbformat_minor": 5
}
